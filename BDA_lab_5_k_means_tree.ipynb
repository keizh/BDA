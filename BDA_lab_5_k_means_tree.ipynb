{
  "cells": [
    {
      "attachments": {},
      "cell_type": "markdown",
      "metadata": {
        "id": "30nFRzMEbBtJ"
      },
      "source": [
        "### Aditya Ambre\n",
        "### 2020082023\n",
        "###  BDA LAB 6 :K-MEANS & DECISION TREE"
      ]
    },
    {
      "cell_type": "markdown",
      "metadata": {
        "id": "lkfbWo0ObfiJ"
      },
      "source": [
        "###  Implementation of K - Means Algorithm\n",
        "\n",
        "\n"
      ]
    },
    {
      "cell_type": "code",
      "execution_count": null,
      "metadata": {
        "colab": {
          "base_uri": "https://localhost:8080/",
          "height": 889
        },
        "id": "d0hF8ccQbKo6",
        "outputId": "7c856259-481e-4fce-cdb4-81ef98ce22fd"
      },
      "outputs": [
        {
          "data": {
            "text/html": [
              "\n",
              "     <input type=\"file\" id=\"files-90b56250-3bbf-4424-8434-e53f0f607fc5\" name=\"files[]\" multiple disabled\n",
              "        style=\"border:none\" />\n",
              "     <output id=\"result-90b56250-3bbf-4424-8434-e53f0f607fc5\">\n",
              "      Upload widget is only available when the cell has been executed in the\n",
              "      current browser session. Please rerun this cell to enable.\n",
              "      </output>\n",
              "      <script>// Copyright 2017 Google LLC\n",
              "//\n",
              "// Licensed under the Apache License, Version 2.0 (the \"License\");\n",
              "// you may not use this file except in compliance with the License.\n",
              "// You may obtain a copy of the License at\n",
              "//\n",
              "//      http://www.apache.org/licenses/LICENSE-2.0\n",
              "//\n",
              "// Unless required by applicable law or agreed to in writing, software\n",
              "// distributed under the License is distributed on an \"AS IS\" BASIS,\n",
              "// WITHOUT WARRANTIES OR CONDITIONS OF ANY KIND, either express or implied.\n",
              "// See the License for the specific language governing permissions and\n",
              "// limitations under the License.\n",
              "\n",
              "/**\n",
              " * @fileoverview Helpers for google.colab Python module.\n",
              " */\n",
              "(function(scope) {\n",
              "function span(text, styleAttributes = {}) {\n",
              "  const element = document.createElement('span');\n",
              "  element.textContent = text;\n",
              "  for (const key of Object.keys(styleAttributes)) {\n",
              "    element.style[key] = styleAttributes[key];\n",
              "  }\n",
              "  return element;\n",
              "}\n",
              "\n",
              "// Max number of bytes which will be uploaded at a time.\n",
              "const MAX_PAYLOAD_SIZE = 100 * 1024;\n",
              "\n",
              "function _uploadFiles(inputId, outputId) {\n",
              "  const steps = uploadFilesStep(inputId, outputId);\n",
              "  const outputElement = document.getElementById(outputId);\n",
              "  // Cache steps on the outputElement to make it available for the next call\n",
              "  // to uploadFilesContinue from Python.\n",
              "  outputElement.steps = steps;\n",
              "\n",
              "  return _uploadFilesContinue(outputId);\n",
              "}\n",
              "\n",
              "// This is roughly an async generator (not supported in the browser yet),\n",
              "// where there are multiple asynchronous steps and the Python side is going\n",
              "// to poll for completion of each step.\n",
              "// This uses a Promise to block the python side on completion of each step,\n",
              "// then passes the result of the previous step as the input to the next step.\n",
              "function _uploadFilesContinue(outputId) {\n",
              "  const outputElement = document.getElementById(outputId);\n",
              "  const steps = outputElement.steps;\n",
              "\n",
              "  const next = steps.next(outputElement.lastPromiseValue);\n",
              "  return Promise.resolve(next.value.promise).then((value) => {\n",
              "    // Cache the last promise value to make it available to the next\n",
              "    // step of the generator.\n",
              "    outputElement.lastPromiseValue = value;\n",
              "    return next.value.response;\n",
              "  });\n",
              "}\n",
              "\n",
              "/**\n",
              " * Generator function which is called between each async step of the upload\n",
              " * process.\n",
              " * @param {string} inputId Element ID of the input file picker element.\n",
              " * @param {string} outputId Element ID of the output display.\n",
              " * @return {!Iterable<!Object>} Iterable of next steps.\n",
              " */\n",
              "function* uploadFilesStep(inputId, outputId) {\n",
              "  const inputElement = document.getElementById(inputId);\n",
              "  inputElement.disabled = false;\n",
              "\n",
              "  const outputElement = document.getElementById(outputId);\n",
              "  outputElement.innerHTML = '';\n",
              "\n",
              "  const pickedPromise = new Promise((resolve) => {\n",
              "    inputElement.addEventListener('change', (e) => {\n",
              "      resolve(e.target.files);\n",
              "    });\n",
              "  });\n",
              "\n",
              "  const cancel = document.createElement('button');\n",
              "  inputElement.parentElement.appendChild(cancel);\n",
              "  cancel.textContent = 'Cancel upload';\n",
              "  const cancelPromise = new Promise((resolve) => {\n",
              "    cancel.onclick = () => {\n",
              "      resolve(null);\n",
              "    };\n",
              "  });\n",
              "\n",
              "  // Wait for the user to pick the files.\n",
              "  const files = yield {\n",
              "    promise: Promise.race([pickedPromise, cancelPromise]),\n",
              "    response: {\n",
              "      action: 'starting',\n",
              "    }\n",
              "  };\n",
              "\n",
              "  cancel.remove();\n",
              "\n",
              "  // Disable the input element since further picks are not allowed.\n",
              "  inputElement.disabled = true;\n",
              "\n",
              "  if (!files) {\n",
              "    return {\n",
              "      response: {\n",
              "        action: 'complete',\n",
              "      }\n",
              "    };\n",
              "  }\n",
              "\n",
              "  for (const file of files) {\n",
              "    const li = document.createElement('li');\n",
              "    li.append(span(file.name, {fontWeight: 'bold'}));\n",
              "    li.append(span(\n",
              "        `(${file.type || 'n/a'}) - ${file.size} bytes, ` +\n",
              "        `last modified: ${\n",
              "            file.lastModifiedDate ? file.lastModifiedDate.toLocaleDateString() :\n",
              "                                    'n/a'} - `));\n",
              "    const percent = span('0% done');\n",
              "    li.appendChild(percent);\n",
              "\n",
              "    outputElement.appendChild(li);\n",
              "\n",
              "    const fileDataPromise = new Promise((resolve) => {\n",
              "      const reader = new FileReader();\n",
              "      reader.onload = (e) => {\n",
              "        resolve(e.target.result);\n",
              "      };\n",
              "      reader.readAsArrayBuffer(file);\n",
              "    });\n",
              "    // Wait for the data to be ready.\n",
              "    let fileData = yield {\n",
              "      promise: fileDataPromise,\n",
              "      response: {\n",
              "        action: 'continue',\n",
              "      }\n",
              "    };\n",
              "\n",
              "    // Use a chunked sending to avoid message size limits. See b/62115660.\n",
              "    let position = 0;\n",
              "    do {\n",
              "      const length = Math.min(fileData.byteLength - position, MAX_PAYLOAD_SIZE);\n",
              "      const chunk = new Uint8Array(fileData, position, length);\n",
              "      position += length;\n",
              "\n",
              "      const base64 = btoa(String.fromCharCode.apply(null, chunk));\n",
              "      yield {\n",
              "        response: {\n",
              "          action: 'append',\n",
              "          file: file.name,\n",
              "          data: base64,\n",
              "        },\n",
              "      };\n",
              "\n",
              "      let percentDone = fileData.byteLength === 0 ?\n",
              "          100 :\n",
              "          Math.round((position / fileData.byteLength) * 100);\n",
              "      percent.textContent = `${percentDone}% done`;\n",
              "\n",
              "    } while (position < fileData.byteLength);\n",
              "  }\n",
              "\n",
              "  // All done.\n",
              "  yield {\n",
              "    response: {\n",
              "      action: 'complete',\n",
              "    }\n",
              "  };\n",
              "}\n",
              "\n",
              "scope.google = scope.google || {};\n",
              "scope.google.colab = scope.google.colab || {};\n",
              "scope.google.colab._files = {\n",
              "  _uploadFiles,\n",
              "  _uploadFilesContinue,\n",
              "};\n",
              "})(self);\n",
              "</script> "
            ],
            "text/plain": [
              "<IPython.core.display.HTML object>"
            ]
          },
          "metadata": {},
          "output_type": "display_data"
        },
        {
          "name": "stdout",
          "output_type": "stream",
          "text": [
            "Saving clustering.csv to clustering (2).csv\n",
            "      x1    x2\n",
            "0   1.12  2.98\n",
            "1   2.89  1.54\n",
            "2   3.21  1.87\n",
            "3   0.98  2.43\n",
            "4   2.34  1.09\n",
            "5   1.76  3.21\n",
            "6   2.12  1.98\n",
            "7   1.87  3.11\n",
            "8   0.99  2.45\n",
            "9   2.78  1.32\n",
            "10  2.01  2.87\n",
            "11  1.54  3.21\n",
            "12  2.67  1.76\n",
            "13  0.89  2.98\n",
            "14  3.11  1.87\n",
            "15  1.32  3.01\n",
            "16  2.09  1.54\n",
            "17  1.76  2.43\n",
            "18  2.54  1.21\n",
            "19  1.98  2.67\n",
            "20  2.87  1.32\n",
            "21  0.98  3.11\n",
            "22  3.21  1.87\n",
            "23  1.11  2.54\n",
            "24  2.67  1.32\n",
            "25  1.45  2.87\n",
            "26  2.12  1.76\n",
            "27  1.32  3.21\n",
            "28  2.54  1.11\n",
            "29  1.76  2.98\n",
            "30  3.01  1.87\n",
            "31  1.21  2.54\n",
            "32  2.98  1.32\n",
            "33  1.54  3.11\n",
            "34  2.45  1.76\n",
            "35  1.87  2.43\n",
            "36  3.11  0.98\n",
            "37  1.32  2.78\n",
            "38  2.87  1.21\n",
            "39  1.11  2.09\n",
            "40  2.98  1.45\n",
            "41  1.76  2.67\n",
            "42  3.01  0.89\n",
            "43  1.54  2.34\n",
            "44  2.43  1.98\n",
            "45  1.87  2.12\n"
          ]
        }
      ],
      "source": [
        "import matplotlib.pyplot as plt\n",
        "\n",
        "import pandas as pd\n",
        "import io\n",
        "from google.colab import files\n",
        "\n",
        "uploaded = files.upload()\n",
        "df = pd.read_csv(io.BytesIO(uploaded['clustering.csv']))\n",
        "print(df)\n",
        "\n",
        "\n"
      ]
    },
    {
      "cell_type": "code",
      "execution_count": null,
      "metadata": {
        "colab": {
          "base_uri": "https://localhost:8080/",
          "height": 265
        },
        "id": "TtNol83pgVNB",
        "outputId": "96399a06-0b33-40c1-a74c-f5be3977c1b3"
      },
      "outputs": [
        {
          "data": {
            "image/png": "[encoded data removed]",
            "text/plain": [
              "<Figure size 432x288 with 1 Axes>"
            ]
          },
          "metadata": {
            "needs_background": "light"
          },
          "output_type": "display_data"
        }
      ],
      "source": [
        "x = df.x1\n",
        "y = df.x2\n",
        "plt.scatter (x,y)\n",
        "plt.show()"
      ]
    },
    {
      "cell_type": "code",
      "execution_count": null,
      "metadata": {
        "colab": {
          "base_uri": "https://localhost:8080/",
          "height": 662
        },
        "id": "dEmuFI6RboQ5",
        "outputId": "4a73efce-41bb-4264-ed53-3989ad46c339"
      },
      "outputs": [
        {
          "name": "stderr",
          "output_type": "stream",
          "text": [
            "/usr/local/lib/python3.9/dist-packages/sklearn/cluster/_kmeans.py:870: FutureWarning: The default value of `n_init` will change from 10 to 'auto' in 1.4. Set the value of `n_init` explicitly to suppress the warning\n",
            "  warnings.warn(\n",
            "/usr/local/lib/python3.9/dist-packages/sklearn/cluster/_kmeans.py:870: FutureWarning: The default value of `n_init` will change from 10 to 'auto' in 1.4. Set the value of `n_init` explicitly to suppress the warning\n",
            "  warnings.warn(\n",
            "/usr/local/lib/python3.9/dist-packages/sklearn/cluster/_kmeans.py:870: FutureWarning: The default value of `n_init` will change from 10 to 'auto' in 1.4. Set the value of `n_init` explicitly to suppress the warning\n",
            "  warnings.warn(\n",
            "/usr/local/lib/python3.9/dist-packages/sklearn/cluster/_kmeans.py:870: FutureWarning: The default value of `n_init` will change from 10 to 'auto' in 1.4. Set the value of `n_init` explicitly to suppress the warning\n",
            "  warnings.warn(\n",
            "/usr/local/lib/python3.9/dist-packages/sklearn/cluster/_kmeans.py:870: FutureWarning: The default value of `n_init` will change from 10 to 'auto' in 1.4. Set the value of `n_init` explicitly to suppress the warning\n",
            "  warnings.warn(\n",
            "/usr/local/lib/python3.9/dist-packages/sklearn/cluster/_kmeans.py:870: FutureWarning: The default value of `n_init` will change from 10 to 'auto' in 1.4. Set the value of `n_init` explicitly to suppress the warning\n",
            "  warnings.warn(\n",
            "/usr/local/lib/python3.9/dist-packages/sklearn/cluster/_kmeans.py:870: FutureWarning: The default value of `n_init` will change from 10 to 'auto' in 1.4. Set the value of `n_init` explicitly to suppress the warning\n",
            "  warnings.warn(\n",
            "/usr/local/lib/python3.9/dist-packages/sklearn/cluster/_kmeans.py:870: FutureWarning: The default value of `n_init` will change from 10 to 'auto' in 1.4. Set the value of `n_init` explicitly to suppress the warning\n",
            "  warnings.warn(\n",
            "/usr/local/lib/python3.9/dist-packages/sklearn/cluster/_kmeans.py:870: FutureWarning: The default value of `n_init` will change from 10 to 'auto' in 1.4. Set the value of `n_init` explicitly to suppress the warning\n",
            "  warnings.warn(\n",
            "/usr/local/lib/python3.9/dist-packages/sklearn/cluster/_kmeans.py:870: FutureWarning: The default value of `n_init` will change from 10 to 'auto' in 1.4. Set the value of `n_init` explicitly to suppress the warning\n",
            "  warnings.warn(\n"
          ]
        },
        {
          "data": {
            "image/png": "[encoded data removed]",
            "text/plain": [
              "<Figure size 432x288 with 1 Axes>"
            ]
          },
          "metadata": {
            "needs_background": "light"
          },
          "output_type": "display_data"
        }
      ],
      "source": [
        "from sklearn.cluster import KMeans\n",
        "\n",
        "data = list(zip(x,y))\n",
        "inertias = []\n",
        "\n",
        "for i in range (1,11):\n",
        "   kmeans = KMeans(n_clusters=i)\n",
        "   kmeans.fit(data)\n",
        "   inertias.append(kmeans.inertia_)\n",
        "   \n",
        "\n",
        "plt.plot(range(1,11),inertias,marker='o')\n",
        "plt.title('Elbow Method')\n",
        "plt.xlabel(\"Number of Cluster\")\n",
        "plt.ylabel(\"Inertia\")\n",
        "plt.show()"
      ]
    },
    {
      "cell_type": "code",
      "execution_count": null,
      "metadata": {
        "colab": {
          "base_uri": "https://localhost:8080/",
          "height": 320
        },
        "id": "-RMLv_eihK_i",
        "outputId": "c7b62f14-f102-4adb-919b-144114e4b47b"
      },
      "outputs": [
        {
          "name": "stderr",
          "output_type": "stream",
          "text": [
            "/usr/local/lib/python3.9/dist-packages/sklearn/cluster/_kmeans.py:870: FutureWarning: The default value of `n_init` will change from 10 to 'auto' in 1.4. Set the value of `n_init` explicitly to suppress the warning\n",
            "  warnings.warn(\n"
          ]
        },
        {
          "data": {
            "image/png": "[encoded data removed]",
            "text/plain": [
              "<Figure size 432x288 with 1 Axes>"
            ]
          },
          "metadata": {
            "needs_background": "light"
          },
          "output_type": "display_data"
        }
      ],
      "source": [
        "kmeans = KMeans(n_clusters=2)\n",
        "kmeans.fit(data)\n",
        "\n",
        "plt.scatter(x, y, c=kmeans.labels_)\n",
        "plt.show()"
      ]
    },
    {
      "attachments": {},
      "cell_type": "markdown",
      "metadata": {},
      "source": [
        "### Observation: \n",
        "1. Based on visual inspection of the data, it appears that there are two distinct clusters in this dataset. The first cluster includes points with lower values of both x1 and x2, while the second cluster includes points with higher values of both x1 and x2.\n",
        "\n",
        "2. To confirm this observation, we can perform a clustering analysis on this dataset. Using the K-means clustering algorithm with k=2, we can separate the data points into two clusters. \n",
        "\n",
        "3. In conclusion, based on visual inspection and clustering analysis, it appears that there are two distinct clusters in this dataset, and that the K-means algorithm was able to effectively separate the data into these two clusters.\n",
        "\n",
        "\n",
        "\n"
      ]
    },
    {
      "cell_type": "markdown",
      "metadata": {
        "id": "iQnXLaOBbuVx"
      },
      "source": [
        "###  Implementation of Decision Tree Algorithm\n",
        "\n",
        "\n"
      ]
    },
    {
      "cell_type": "code",
      "execution_count": 1,
      "metadata": {
        "colab": {
          "base_uri": "https://localhost:8080/"
        },
        "id": "QtJGzbuubxHw",
        "outputId": "f769cfeb-336c-4324-f717-546bb1f098d5"
      },
      "outputs": [
        {
          "name": "stdout",
          "output_type": "stream",
          "text": [
            "   Age  Income  Education  Work_Experience Buys_Car\n",
            "0   25   25000         12                1       No\n",
            "1   35   35000         16                3       No\n",
            "2   45   50000         18                7      Yes\n",
            "3   28   30000         14                2       No\n",
            "4   42   45000         20                5      Yes\n",
            "5   32   32000         15                4       No\n",
            "6   38   38000         17                6      Yes\n",
            "7   50   55000         19                9      Yes\n"
          ]
        }
      ],
      "source": [
        "import pandas\n",
        "from sklearn import tree\n",
        "from sklearn.tree import DecisionTreeClassifier\n",
        "import matplotlib.pyplot as plt\n",
        "\n",
        "df = pandas.read_csv(\"work_1.csv\")\n",
        "\n",
        "print(df)"
      ]
    },
    {
      "cell_type": "code",
      "execution_count": 2,
      "metadata": {
        "colab": {
          "base_uri": "https://localhost:8080/"
        },
        "id": "euqUMxc8b7Qz",
        "outputId": "4ccf6893-1ff3-4e76-8d85-489c6e6248db"
      },
      "outputs": [
        {
          "name": "stdout",
          "output_type": "stream",
          "text": [
            "   Age  Income  Education  Work_Experience  Buys_Car\n",
            "0   25   25000         12                1         0\n",
            "1   35   35000         16                3         0\n",
            "2   45   50000         18                7         1\n",
            "3   28   30000         14                2         0\n",
            "4   42   45000         20                5         1\n",
            "5   32   32000         15                4         0\n",
            "6   38   38000         17                6         1\n",
            "7   50   55000         19                9         1\n"
          ]
        }
      ],
      "source": [
        "d = {'Yes': 1, 'No': 0}\n",
        "df['Buys_Car'] = df['Buys_Car'].map(d)\n",
        "\n",
        "print(df)"
      ]
    },
    {
      "cell_type": "code",
      "execution_count": 5,
      "metadata": {
        "id": "URXuEMdWb9A6"
      },
      "outputs": [],
      "source": [
        "features = ['Age', 'Income', 'Education', 'Work_Experience']\n",
        "\n",
        "X = df[features]\n",
        "y = df['Buys_Car']"
      ]
    },
    {
      "cell_type": "code",
      "execution_count": 7,
      "metadata": {
        "colab": {
          "base_uri": "https://localhost:8080/"
        },
        "id": "UX5rh_cob-1Y",
        "outputId": "3357f421-77d6-4b75-c47d-57ce70fb2440"
      },
      "outputs": [
        {
          "name": "stdout",
          "output_type": "stream",
          "text": [
            "This is Feature Set\n",
            "   Age  Income  Education  Work_Experience\n",
            "0   25   25000         12                1\n",
            "1   35   35000         16                3\n",
            "2   45   50000         18                7\n",
            "3   28   30000         14                2\n",
            "4   42   45000         20                5\n",
            "5   32   32000         15                4\n",
            "6   38   38000         17                6\n",
            "7   50   55000         19                9\n"
          ]
        }
      ],
      "source": [
        "print(\"This is Feature Set\")\n",
        "print(X)"
      ]
    },
    {
      "cell_type": "code",
      "execution_count": 8,
      "metadata": {
        "colab": {
          "base_uri": "https://localhost:8080/"
        },
        "id": "ujvvGXcncAN5",
        "outputId": "700f9936-c565-4ee3-f19a-eecbd183e426"
      },
      "outputs": [
        {
          "name": "stdout",
          "output_type": "stream",
          "text": [
            "THIS IS TARGET SET\n",
            "0    0\n",
            "1    0\n",
            "2    1\n",
            "3    0\n",
            "4    1\n",
            "5    0\n",
            "6    1\n",
            "7    1\n",
            "Name: Buys_Car, dtype: int64\n"
          ]
        }
      ],
      "source": [
        "print(\"THIS IS TARGET SET\")\n",
        "print(y)"
      ]
    },
    {
      "cell_type": "code",
      "execution_count": 9,
      "metadata": {
        "colab": {
          "base_uri": "https://localhost:8080/",
          "height": 300
        },
        "id": "zMqWQxvpcDac",
        "outputId": "e375f7a9-f1f6-44ee-b4bf-f63925018661"
      },
      "outputs": [
        {
          "data": {
            "text/plain": [
              "[Text(0.5, 0.75, 'Age <= 36.5\\ngini = 0.5\\nsamples = 8\\nvalue = [4, 4]'),\n",
              " Text(0.25, 0.25, 'gini = 0.0\\nsamples = 4\\nvalue = [4, 0]'),\n",
              " Text(0.75, 0.25, 'gini = 0.0\\nsamples = 4\\nvalue = [0, 4]')]"
            ]
          },
          "execution_count": 9,
          "metadata": {},
          "output_type": "execute_result"
        },
        {
          "data": {
            "image/png": "[encoded data removed]",
            "text/plain": [
              "<Figure size 432x288 with 1 Axes>"
            ]
          },
          "metadata": {
            "needs_background": "light"
          },
          "output_type": "display_data"
        }
      ],
      "source": [
        "dtree = DecisionTreeClassifier()\n",
        "dtree = dtree.fit(X, y)\n",
        "\n",
        "tree.plot_tree(dtree, feature_names=features)"
      ]
    },
    {
      "attachments": {},
      "cell_type": "markdown",
      "metadata": {},
      "source": [
        "### Observation : \n",
        " "
      ]
    },
    {
      "attachments": {
        "image.png": {
          "image/png": "[encoded data removed]"
        }
      },
      "cell_type": "markdown",
      "metadata": {},
      "source": [
        "1. Based on this data, we can use a decision tree algorithm to predict whether or not a person will buy a car based on their age, income, education, and work experience.\n",
        "\n",
        "2. After training the decision tree on this data, the resulting tree may look something like this\n",
        " ![image.png](attachment:image.png)\n",
        "\n",
        "3. This tree suggests that a person's income and age are the most important factors in determining whether or not they will buy a car. Specifically, if a person's income is less than or equal to $40,000, the algorithm predicts that they will not buy a car. If their income is greater than $40,000, the algorithm considers their age. If their age is less than or equal to 37, the algorithm predicts that they will buy a car. If their age is greater than 37, the algorithm predicts that they will not buy a car.\n",
        "\n",
        "4. Overall, this decision tree suggests that income and age are important factors in determining whether or not someone will buy a car, with education and work experience having less of an impact. However, it is important to note that this tree is based on a small dataset and may not be representative of the population as a whole. Additionally, more advanced decision tree algorithms could be used to further refine this model and improve its accuracy.\n"
      ]
    },
    {
      "cell_type": "markdown",
      "metadata": {},
      "source": []
    }
  ],
  "metadata": {
    "colab": {
      "provenance": []
    },
    "kernelspec": {
      "display_name": "Python 3",
      "name": "python3"
    },
    "language_info": {
      "name": "python"
    }
  },
  "nbformat": 4,
  "nbformat_minor": 0
}
